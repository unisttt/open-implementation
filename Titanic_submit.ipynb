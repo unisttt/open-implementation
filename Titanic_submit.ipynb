{
  "nbformat": 4,
  "nbformat_minor": 0,
  "metadata": {
    "colab": {
      "name": "Titanic_submit.ipynb",
      "version": "0.3.2",
      "provenance": [],
      "include_colab_link": true
    },
    "kernelspec": {
      "name": "python3",
      "display_name": "Python 3"
    }
  },
  "cells": [
    {
      "cell_type": "markdown",
      "metadata": {
        "id": "view-in-github",
        "colab_type": "text"
      },
      "source": [
        "<a href=\"https://colab.research.google.com/github/unisttt/open-implementation/blob/master/Titanic_submit.ipynb\" target=\"_parent\"><img src=\"https://colab.research.google.com/assets/colab-badge.svg\" alt=\"Open In Colab\"/></a>"
      ]
    },
    {
      "cell_type": "markdown",
      "metadata": {
        "id": "_Hz0t6mRqLz2",
        "colab_type": "text"
      },
      "source": [
        "# Summary\n",
        "* 二つの手法を実装し検証\n",
        "* （手法１）sckit-learnのLogisticRegression\n",
        " * cross validationが便利そうなので使用してみる\n",
        " * 平均正解率: {0.8011819166748744}\n",
        " * 短いコードで実装できる\n",
        "* （手法2）PyTorch + skorchで実装\n",
        " * PyTrochでsckit-learnのcross validationが使えるみたいなので試してみる\n",
        " * 平均正解率: {0.8207426376440461}\n",
        " * コードは長くなるが複雑な問題に適応できる"
      ]
    },
    {
      "cell_type": "markdown",
      "metadata": {
        "id": "h3lzLr6dn3EX",
        "colab_type": "text"
      },
      "source": [
        "## 事前準備"
      ]
    },
    {
      "cell_type": "markdown",
      "metadata": {
        "id": "jf7XRf47jWz3",
        "colab_type": "text"
      },
      "source": [
        "### GPUを使う場合の設定（PyTorchで\"CUDA\"を使いたい場合）\n",
        "1. 上のタブ\"ランタイム\"タブ選択\n",
        "2. \"ランタイムのタイプを変更を選択\"\n",
        "3. \"ハードウェアアクセラレータ\"を\"GPU\"に設定"
      ]
    },
    {
      "cell_type": "code",
      "metadata": {
        "id": "lAe60ehhgovB",
        "colab_type": "code",
        "colab": {}
      },
      "source": [
        "import numpy as np\n",
        "import pandas as pd\n",
        "import matplotlib.pyplot as plt\n",
        "import os"
      ],
      "execution_count": 0,
      "outputs": []
    },
    {
      "cell_type": "markdown",
      "metadata": {
        "id": "rMOLKUeshNum",
        "colab_type": "text"
      },
      "source": [
        "### ファイルアップロード\n",
        "1.   左の”＞”マークを開く\n",
        "2.   ”ファイル”を選択\n",
        "3.   ”アップロード”を選択\n",
        "4.   \"train.csv\"を選択"
      ]
    },
    {
      "cell_type": "code",
      "metadata": {
        "id": "4YiKvWYkguO1",
        "colab_type": "code",
        "colab": {}
      },
      "source": [
        "# アップロードされていない場合にはここでアップロードしてもらう\n",
        "if not os.path.exists(\"train.csv\"):\n",
        "  from google.colab import files\n",
        "  uploaded = files.upload()    # train.csvを選択"
      ],
      "execution_count": 0,
      "outputs": []
    },
    {
      "cell_type": "code",
      "metadata": {
        "id": "z-mAd15-iJi0",
        "colab_type": "code",
        "colab": {}
      },
      "source": [
        "df_train = pd.read_csv(\"train.csv\")"
      ],
      "execution_count": 0,
      "outputs": []
    },
    {
      "cell_type": "code",
      "metadata": {
        "id": "4RhwXf1TjA49",
        "colab_type": "code",
        "colab": {
          "base_uri": "https://localhost:8080/",
          "height": 254
        },
        "outputId": "050bc457-7bae-4a2b-d9c7-5a502869aaee"
      },
      "source": [
        "# 欠落と割合を表示\n",
        "def nullCheck(df):\n",
        "    null_count = df.isnull().sum()\n",
        "    null_rate = null_count / df.shape[0] * 100\n",
        "\n",
        "    null_table = pd.DataFrame({\n",
        "        'null_couunt': null_count,\n",
        "        'null_rate': null_rate\n",
        "    })\n",
        "    \n",
        "    return null_table\n",
        "\n",
        "print(nullCheck(df_train))"
      ],
      "execution_count": 4,
      "outputs": [
        {
          "output_type": "stream",
          "text": [
            "             null_couunt  null_rate\n",
            "PassengerId            0   0.000000\n",
            "Survived               0   0.000000\n",
            "Pclass                 0   0.000000\n",
            "Name                   0   0.000000\n",
            "Sex                    0   0.000000\n",
            "Age                  177  19.865320\n",
            "SibSp                  0   0.000000\n",
            "Parch                  0   0.000000\n",
            "Ticket                 0   0.000000\n",
            "Fare                   0   0.000000\n",
            "Cabin                687  77.104377\n",
            "Embarked               2   0.224467\n"
          ],
          "name": "stdout"
        }
      ]
    },
    {
      "cell_type": "markdown",
      "metadata": {
        "id": "hwpv0Ye7lBDe",
        "colab_type": "text"
      },
      "source": [
        "## 前処理"
      ]
    },
    {
      "cell_type": "markdown",
      "metadata": {
        "id": "NmgVt-YqlRqm",
        "colab_type": "text"
      },
      "source": [
        "* PassengerId: / （いらなそう）\n",
        "* Survived: / （train_y）\n",
        "* Pclass : Ticket Class(1st, 2nd, 3rd) / （使えそう）\n",
        "* Name: / （いらない）\n",
        "* Sex: / （絶対いる）\n",
        "* Age: /（ 絶対いる）\n",
        "* SibSp : タイタニック号に乗っている兄弟/配偶者の数 / （一応関係ありそう）\n",
        "* Parch : タイタニック号に乗っている親/子供の数 / （関係ありそう）\n",
        "* Ticket : Ticket number / （いらない）\n",
        "* Fare: / （いるはず）\n",
        "* Cabin : Cabin number / （いらないはず。欠落が多すぎる）\n",
        "* Embarked : 乗船港（C = Cherbourg, Q = Queenstown, S = Southampton）/ （あんまり関係なさそう）"
      ]
    },
    {
      "cell_type": "code",
      "metadata": {
        "id": "wavFbNXLjPu5",
        "colab_type": "code",
        "colab": {
          "base_uri": "https://localhost:8080/",
          "height": 35
        },
        "outputId": "9c2a44f4-564d-443b-f5c5-083381976630"
      },
      "source": [
        "# 使用しないデータを削除する（直観で選択）\n",
        "# Ageの欠落を平均などで埋めれるが、正確な年齢が重要な気がするので今回はしない。欠落は削除\n",
        "df_train_use = df_train.drop([\"PassengerId\", \"Name\", \"Ticket\", \"Cabin\", \"Embarked\"], axis=1).dropna()\n",
        "print(df_train_use.shape)"
      ],
      "execution_count": 5,
      "outputs": [
        {
          "output_type": "stream",
          "text": [
            "(714, 7)\n"
          ],
          "name": "stdout"
        }
      ]
    },
    {
      "cell_type": "code",
      "metadata": {
        "id": "OMa3RzX-k2Yc",
        "colab_type": "code",
        "colab": {
          "base_uri": "https://localhost:8080/",
          "height": 198
        },
        "outputId": "ce05b68f-4740-480d-9ab1-47dba67e4a2f"
      },
      "source": [
        "df_train_use.head()"
      ],
      "execution_count": 6,
      "outputs": [
        {
          "output_type": "execute_result",
          "data": {
            "text/html": [
              "<div>\n",
              "<style scoped>\n",
              "    .dataframe tbody tr th:only-of-type {\n",
              "        vertical-align: middle;\n",
              "    }\n",
              "\n",
              "    .dataframe tbody tr th {\n",
              "        vertical-align: top;\n",
              "    }\n",
              "\n",
              "    .dataframe thead th {\n",
              "        text-align: right;\n",
              "    }\n",
              "</style>\n",
              "<table border=\"1\" class=\"dataframe\">\n",
              "  <thead>\n",
              "    <tr style=\"text-align: right;\">\n",
              "      <th></th>\n",
              "      <th>Survived</th>\n",
              "      <th>Pclass</th>\n",
              "      <th>Sex</th>\n",
              "      <th>Age</th>\n",
              "      <th>SibSp</th>\n",
              "      <th>Parch</th>\n",
              "      <th>Fare</th>\n",
              "    </tr>\n",
              "  </thead>\n",
              "  <tbody>\n",
              "    <tr>\n",
              "      <th>0</th>\n",
              "      <td>0</td>\n",
              "      <td>3</td>\n",
              "      <td>male</td>\n",
              "      <td>22.0</td>\n",
              "      <td>1</td>\n",
              "      <td>0</td>\n",
              "      <td>7.2500</td>\n",
              "    </tr>\n",
              "    <tr>\n",
              "      <th>1</th>\n",
              "      <td>1</td>\n",
              "      <td>1</td>\n",
              "      <td>female</td>\n",
              "      <td>38.0</td>\n",
              "      <td>1</td>\n",
              "      <td>0</td>\n",
              "      <td>71.2833</td>\n",
              "    </tr>\n",
              "    <tr>\n",
              "      <th>2</th>\n",
              "      <td>1</td>\n",
              "      <td>3</td>\n",
              "      <td>female</td>\n",
              "      <td>26.0</td>\n",
              "      <td>0</td>\n",
              "      <td>0</td>\n",
              "      <td>7.9250</td>\n",
              "    </tr>\n",
              "    <tr>\n",
              "      <th>3</th>\n",
              "      <td>1</td>\n",
              "      <td>1</td>\n",
              "      <td>female</td>\n",
              "      <td>35.0</td>\n",
              "      <td>1</td>\n",
              "      <td>0</td>\n",
              "      <td>53.1000</td>\n",
              "    </tr>\n",
              "    <tr>\n",
              "      <th>4</th>\n",
              "      <td>0</td>\n",
              "      <td>3</td>\n",
              "      <td>male</td>\n",
              "      <td>35.0</td>\n",
              "      <td>0</td>\n",
              "      <td>0</td>\n",
              "      <td>8.0500</td>\n",
              "    </tr>\n",
              "  </tbody>\n",
              "</table>\n",
              "</div>"
            ],
            "text/plain": [
              "   Survived  Pclass     Sex   Age  SibSp  Parch     Fare\n",
              "0         0       3    male  22.0      1      0   7.2500\n",
              "1         1       1  female  38.0      1      0  71.2833\n",
              "2         1       3  female  26.0      0      0   7.9250\n",
              "3         1       1  female  35.0      1      0  53.1000\n",
              "4         0       3    male  35.0      0      0   8.0500"
            ]
          },
          "metadata": {
            "tags": []
          },
          "execution_count": 6
        }
      ]
    },
    {
      "cell_type": "markdown",
      "metadata": {
        "id": "4sC53-MkvwDv",
        "colab_type": "text"
      },
      "source": [
        "#### \"male\", \"female\"の二つの内一つは必要ないので削除（Pclassでも同様）\n",
        "正解率が少し上がった"
      ]
    },
    {
      "cell_type": "code",
      "metadata": {
        "id": "YRhEHfZak8Wv",
        "colab_type": "code",
        "colab": {}
      },
      "source": [
        "def createMergeDataset():\n",
        "  Pclass = pd.get_dummies(df_train_use[\"Pclass\"])\n",
        "  Pclass.columns = [\"1st\", \"2nd\", \"3rd\"]\n",
        "  Pclass = Pclass.drop(\"1st\", axis=1)\n",
        "\n",
        "  Sex = pd.get_dummies(df_train_use[\"Sex\"])\n",
        "  Sex = Sex.drop(\"female\", axis=1)\n",
        "\n",
        "  tmp_data = df_train_use.drop([\"Pclass\", \"Sex\"], axis=1)\n",
        "  Merge_data = pd.merge(tmp_data, Pclass, right_index=True, left_index=True)\n",
        "  Merge_data = pd.merge(Merge_data, Sex, right_index=True, left_index=True)\n",
        "  Merge_data.head()\n",
        "  \n",
        "  return Merge_data"
      ],
      "execution_count": 0,
      "outputs": []
    },
    {
      "cell_type": "code",
      "metadata": {
        "id": "oNQ7SAvFlqTv",
        "colab_type": "code",
        "colab": {
          "base_uri": "https://localhost:8080/",
          "height": 54
        },
        "outputId": "d0949dd6-bb36-45ee-ef69-9bfe78ad41e8"
      },
      "source": [
        "def createDataset(Merge_data):\n",
        "  train_x = Merge_data.drop(\"Survived\", axis=1).values\n",
        "  train_y = Merge_data[\"Survived\"].values\n",
        "  print(train_x.shape)\n",
        "  print(train_y.shape)\n",
        "  return train_x, train_y\n",
        "\n",
        "Merge_data = createMergeDataset()\n",
        "train_x, train_y = createDataset(Merge_data)\n",
        "m, n = train_x.shape"
      ],
      "execution_count": 8,
      "outputs": [
        {
          "output_type": "stream",
          "text": [
            "(714, 7)\n",
            "(714,)\n"
          ],
          "name": "stdout"
        }
      ]
    },
    {
      "cell_type": "markdown",
      "metadata": {
        "id": "_LDsBXmgl6VD",
        "colab_type": "text"
      },
      "source": [
        "## （手法1）sckit-learnのLogisticRegressionで実装"
      ]
    },
    {
      "cell_type": "code",
      "metadata": {
        "id": "hUiq8DYflwz8",
        "colab_type": "code",
        "colab": {}
      },
      "source": [
        "from sklearn.linear_model import LogisticRegression\n",
        "from sklearn.model_selection import cross_val_score\n",
        "from sklearn.model_selection import KFold\n",
        "from sklearn.model_selection import StratifiedKFold\n",
        "import random"
      ],
      "execution_count": 0,
      "outputs": []
    },
    {
      "cell_type": "code",
      "metadata": {
        "id": "fzhhocjRl1XT",
        "colab_type": "code",
        "colab": {
          "base_uri": "https://localhost:8080/",
          "height": 126
        },
        "outputId": "3483974a-0396-4e9e-e783-4848f9c7a7d0"
      },
      "source": [
        "random.seed(0)  # 恐らくこれを入れることでランタイムをリセットしても値が変わらなくなるはず\n",
        "model = LogisticRegression(solver=\"lbfgs\", max_iter=500)\n",
        "\n",
        "# 層化 k 分割交差検証\n",
        "stratifiedkfold = StratifiedKFold(n_splits=5, shuffle=True, random_state=1)\n",
        "score = cross_val_score(model, train_x, train_y, cv=stratifiedkfold)\n",
        "print('Cross-validation scores: \\n{}'.format(score))\n",
        "print(\"Average: {}\".format(np.mean(score)))\n",
        "\n",
        "# random_state=0 に変更\n",
        "stratifiedkfold = StratifiedKFold(n_splits=5, shuffle=True, random_state=0)\n",
        "score = cross_val_score(model, train_x, train_y, cv=stratifiedkfold)\n",
        "print('Cross-validation scores: \\n{}'.format(score))\n",
        "print(\"Average: {}\".format(np.mean(score)))"
      ],
      "execution_count": 10,
      "outputs": [
        {
          "output_type": "stream",
          "text": [
            "Cross-validation scores: \n",
            "[0.73426573 0.85314685 0.82517483 0.75524476 0.78873239]\n",
            "Average: 0.7913129124396729\n",
            "Cross-validation scores: \n",
            "[0.76923077 0.77622378 0.7972028  0.81818182 0.84507042]\n",
            "Average: 0.8011819166748744\n"
          ],
          "name": "stdout"
        }
      ]
    },
    {
      "cell_type": "code",
      "metadata": {
        "id": "gKwF6s37sVts",
        "colab_type": "code",
        "colab": {
          "base_uri": "https://localhost:8080/",
          "height": 54
        },
        "outputId": "865cff16-e84a-4e18-a4fe-01b8660621fa"
      },
      "source": [
        "def valifyAverageScore(score):\n",
        "  if score >= 0.8:\n",
        "    print(\"score: {}\\n平均正解率は0.8以上です.\".format(score))\n",
        "  elif 0.75 <= score < 0.8:\n",
        "    print(\"score: {}\\n平均正解率は0.75以上0.8未満です.\".format(score))\n",
        "  else:\n",
        "    print(\"score: {}\\n平均正解率は0.75未満です.\".format(score))\n",
        "\n",
        "valifyAverageScore(np.mean(score))"
      ],
      "execution_count": 11,
      "outputs": [
        {
          "output_type": "stream",
          "text": [
            "score: 0.8011819166748744\n",
            "平均正解率は0.8以上です.\n"
          ],
          "name": "stdout"
        }
      ]
    },
    {
      "cell_type": "markdown",
      "metadata": {
        "id": "qhLPIuV6mUNz",
        "colab_type": "text"
      },
      "source": [
        "## （手法2）PyTorch + skorchで実装"
      ]
    },
    {
      "cell_type": "markdown",
      "metadata": {
        "id": "m9JlsWdr7Bp2",
        "colab_type": "text"
      },
      "source": [
        "skorch: PyTorchのsklearnラッパー<br>\n",
        "sklearnの関数が使える"
      ]
    },
    {
      "cell_type": "code",
      "metadata": {
        "id": "892CVLujnog7",
        "colab_type": "code",
        "colab": {
          "base_uri": "https://localhost:8080/",
          "height": 217
        },
        "outputId": "eab40d34-1882-44ce-a73a-a17292361fa4"
      },
      "source": [
        "!pip install skorch"
      ],
      "execution_count": 12,
      "outputs": [
        {
          "output_type": "stream",
          "text": [
            "Collecting skorch\n",
            "\u001b[?25l  Downloading https://files.pythonhosted.org/packages/c7/df/1e0be91bf4c91fce5f99cc4edd89d3dfc16930d3fc77588493558036a8d2/skorch-0.6.0-py3-none-any.whl (101kB)\n",
            "\u001b[K     |████████████████████████████████| 102kB 4.4MB/s \n",
            "\u001b[?25hRequirement already satisfied: scipy>=1.1.0 in /usr/local/lib/python3.6/dist-packages (from skorch) (1.3.0)\n",
            "Requirement already satisfied: tqdm>=4.14.0 in /usr/local/lib/python3.6/dist-packages (from skorch) (4.28.1)\n",
            "Requirement already satisfied: numpy>=1.13.3 in /usr/local/lib/python3.6/dist-packages (from skorch) (1.16.4)\n",
            "Requirement already satisfied: tabulate>=0.7.7 in /usr/local/lib/python3.6/dist-packages (from skorch) (0.8.3)\n",
            "Requirement already satisfied: scikit-learn>=0.19.1 in /usr/local/lib/python3.6/dist-packages (from skorch) (0.21.2)\n",
            "Requirement already satisfied: joblib>=0.11 in /usr/local/lib/python3.6/dist-packages (from scikit-learn>=0.19.1->skorch) (0.13.2)\n",
            "Installing collected packages: skorch\n",
            "Successfully installed skorch-0.6.0\n"
          ],
          "name": "stdout"
        }
      ]
    },
    {
      "cell_type": "code",
      "metadata": {
        "id": "cMYzBQ77ni_W",
        "colab_type": "code",
        "colab": {}
      },
      "source": [
        "import skorch"
      ],
      "execution_count": 0,
      "outputs": []
    },
    {
      "cell_type": "code",
      "metadata": {
        "id": "3y0qzC1Jnmqv",
        "colab_type": "code",
        "colab": {}
      },
      "source": [
        "import torch\n",
        "from torch import nn\n",
        "import torch.nn.functional as F\n",
        "\n",
        "# シンプルな実装\n",
        "# 隠れ層は入力の3倍\n",
        "class Net(nn.Module):\n",
        "  def __init__(self):\n",
        "    super(Net, self).__init__()\n",
        "    self.fc1 = nn.Linear(7, 28)\n",
        "    self.fc2 = nn.Linear(28, 2)\n",
        "    \n",
        "  def forward(self, x):\n",
        "    x = self.fc1(x)\n",
        "    x = F.dropout(x, p=0.1)\n",
        "    x = F.relu(x)\n",
        "    x = self.fc2(x)\n",
        "    x = F.softmax(x, dim=-1)\n",
        "    \n",
        "    return x"
      ],
      "execution_count": 0,
      "outputs": []
    },
    {
      "cell_type": "code",
      "metadata": {
        "id": "Ub9a6ndxnuYW",
        "colab_type": "code",
        "colab": {}
      },
      "source": [
        "from skorch import NeuralNet\n",
        "from skorch import NeuralNetClassifier\n",
        "\n",
        "device = \"cuda\" if torch.cuda.is_available() else \"cpu\"\n",
        "\n",
        "model = NeuralNetClassifier(\n",
        "  Net,\n",
        "  max_epochs=10,\n",
        "  optimizer=torch.optim.Adam,\n",
        "  lr=0.01,\n",
        "  device=device,\n",
        "  batch_size=50,\n",
        "  criterion=nn.NLLLoss,\n",
        "  train_split=None\n",
        ")"
      ],
      "execution_count": 0,
      "outputs": []
    },
    {
      "cell_type": "code",
      "metadata": {
        "id": "yIqL3PdJnwSi",
        "colab_type": "code",
        "colab": {}
      },
      "source": [
        "torch.manual_seed(1)  # 恐らく実行毎にパラメータの初期値が変わらなくなる\n",
        "\n",
        "train_x = train_x.astype(np.float32)\n",
        "train_y = train_y.astype(np.int64)"
      ],
      "execution_count": 0,
      "outputs": []
    },
    {
      "cell_type": "markdown",
      "metadata": {
        "id": "RQIvbdQ-onWq",
        "colab_type": "text"
      },
      "source": [
        "#### 標準化することでtrain_lossの値が時々nanになるのを解消できた\n",
        "その分正解率も上がった"
      ]
    },
    {
      "cell_type": "code",
      "metadata": {
        "id": "mNFh1_IuoACC",
        "colab_type": "code",
        "colab": {
          "base_uri": "https://localhost:8080/",
          "height": 72
        },
        "outputId": "0590479e-6ca5-46c0-cc22-ae3c55e661ca"
      },
      "source": [
        "# 標準化\n",
        "from sklearn.preprocessing import StandardScaler\n",
        "sc = StandardScaler()\n",
        "train_x_std = sc.fit_transform(train_x)\n",
        "print(train_x[1])\n",
        "print(train_x_std[1])"
      ],
      "execution_count": 17,
      "outputs": [
        {
          "output_type": "stream",
          "text": [
            "[38.      1.      0.     71.2833  0.      0.      0.    ]\n",
            "[ 0.571831    0.5245701  -0.50589514  0.6918968  -0.56548935 -0.9944134\n",
            " -1.317434  ]\n"
          ],
          "name": "stdout"
        }
      ]
    },
    {
      "cell_type": "code",
      "metadata": {
        "id": "kyt51A9SokG2",
        "colab_type": "code",
        "colab": {
          "base_uri": "https://localhost:8080/",
          "height": 1000
        },
        "outputId": "e6c71401-0878-4501-9301-3fc6ba1dfee4"
      },
      "source": [
        "random.seed(1)\n",
        "torch.manual_seed(1)\n",
        "\n",
        "average_hist = []  # 検証用\n",
        "model.max_epochs = 50\n",
        "\n",
        "# 層化 k 分割交差検証\n",
        "stratifiedkfold = StratifiedKFold(n_splits=5, shuffle=True, random_state=0)\n",
        "score2 = cross_val_score(model, train_x_std, train_y, cv=stratifiedkfold)\n",
        "print('Cross-validation scores: \\n{}'.format(score2))\n",
        "print(\"Average: {}\".format(np.mean(score2)))\n",
        "average_hist = np.append(average_hist, np.mean(score2))"
      ],
      "execution_count": 18,
      "outputs": [
        {
          "output_type": "stream",
          "text": [
            "  epoch    train_loss     dur\n",
            "-------  ------------  ------\n",
            "      1        \u001b[36m0.6108\u001b[0m  0.3667\n",
            "      2        \u001b[36m0.4825\u001b[0m  0.0273\n",
            "      3        \u001b[36m0.4323\u001b[0m  0.0268\n",
            "      4        \u001b[36m0.4224\u001b[0m  0.0234\n",
            "      5        \u001b[36m0.4082\u001b[0m  0.0223\n",
            "      6        0.4093  0.0236\n",
            "      7        \u001b[36m0.4060\u001b[0m  0.0223\n",
            "      8        0.4065  0.0225\n",
            "      9        \u001b[36m0.3999\u001b[0m  0.0282\n",
            "     10        \u001b[36m0.3974\u001b[0m  0.0214\n",
            "     11        0.4037  0.0264\n",
            "     12        0.3995  0.0276\n",
            "     13        \u001b[36m0.3934\u001b[0m  0.0218\n",
            "     14        \u001b[36m0.3912\u001b[0m  0.0251\n",
            "     15        0.3956  0.0217\n",
            "     16        \u001b[36m0.3901\u001b[0m  0.0240\n",
            "     17        0.3946  0.0277\n",
            "     18        0.3966  0.0279\n",
            "     19        0.3943  0.0222\n",
            "     20        0.3923  0.0235\n",
            "     21        \u001b[36m0.3857\u001b[0m  0.0251\n",
            "     22        \u001b[36m0.3800\u001b[0m  0.0204\n",
            "     23        0.3892  0.0259\n",
            "     24        0.3937  0.0219\n",
            "     25        0.3862  0.0233\n",
            "     26        \u001b[36m0.3796\u001b[0m  0.0235\n",
            "     27        0.3900  0.0210\n",
            "     28        0.3829  0.0230\n",
            "     29        0.3966  0.0263\n",
            "     30        0.3823  0.0229\n",
            "     31        0.3865  0.0238\n",
            "     32        0.3869  0.0255\n",
            "     33        0.3831  0.0243\n",
            "     34        \u001b[36m0.3760\u001b[0m  0.0251\n",
            "     35        0.3813  0.0289\n",
            "     36        0.3879  0.0238\n",
            "     37        0.3872  0.0238\n",
            "     38        0.3821  0.0248\n",
            "     39        \u001b[36m0.3701\u001b[0m  0.0229\n",
            "     40        \u001b[36m0.3684\u001b[0m  0.0204\n",
            "     41        0.3843  0.0272\n",
            "     42        0.3718  0.0237\n",
            "     43        0.3848  0.0258\n",
            "     44        0.3820  0.0257\n",
            "     45        0.3736  0.0251\n",
            "     46        0.3832  0.0216\n",
            "     47        0.3857  0.0239\n",
            "     48        0.3821  0.0283\n",
            "     49        \u001b[36m0.3668\u001b[0m  0.0256\n",
            "     50        0.3765  0.0297\n",
            "  epoch    train_loss     dur\n",
            "-------  ------------  ------\n",
            "      1        \u001b[36m0.6565\u001b[0m  0.0230\n",
            "      2        \u001b[36m0.4944\u001b[0m  0.0245\n",
            "      3        \u001b[36m0.4514\u001b[0m  0.0239\n",
            "      4        \u001b[36m0.4257\u001b[0m  0.0270\n",
            "      5        \u001b[36m0.4214\u001b[0m  0.0243\n",
            "      6        0.4238  0.0216\n",
            "      7        \u001b[36m0.4040\u001b[0m  0.0266\n",
            "      8        0.4150  0.0236\n",
            "      9        0.4127  0.0224\n",
            "     10        0.4196  0.0218\n",
            "     11        0.4113  0.0218\n",
            "     12        0.4104  0.0208\n",
            "     13        0.4099  0.0272\n",
            "     14        0.4072  0.0244\n",
            "     15        0.4102  0.0268\n",
            "     16        \u001b[36m0.4023\u001b[0m  0.0262\n",
            "     17        \u001b[36m0.3981\u001b[0m  0.0257\n",
            "     18        0.4015  0.0226\n",
            "     19        0.4028  0.0249\n",
            "     20        0.4035  0.0234\n",
            "     21        \u001b[36m0.3913\u001b[0m  0.0233\n",
            "     22        \u001b[36m0.3910\u001b[0m  0.0263\n",
            "     23        \u001b[36m0.3872\u001b[0m  0.0229\n",
            "     24        0.4002  0.0242\n",
            "     25        0.4000  0.0226\n",
            "     26        \u001b[36m0.3862\u001b[0m  0.0276\n",
            "     27        0.3992  0.0224\n",
            "     28        0.3948  0.0235\n",
            "     29        0.3972  0.0217\n",
            "     30        0.3969  0.0304\n",
            "     31        0.3903  0.0234\n",
            "     32        \u001b[36m0.3751\u001b[0m  0.0218\n",
            "     33        0.3906  0.0233\n",
            "     34        0.3914  0.0221\n",
            "     35        0.3882  0.0216\n",
            "     36        0.3854  0.0239\n",
            "     37        0.3988  0.0242\n",
            "     38        0.3825  0.0235\n",
            "     39        0.3805  0.0245\n",
            "     40        0.3996  0.0223\n",
            "     41        0.3859  0.0251\n",
            "     42        0.3928  0.0229\n",
            "     43        0.3898  0.0236\n",
            "     44        0.3847  0.0248\n",
            "     45        0.3830  0.0287\n",
            "     46        0.3811  0.0228\n",
            "     47        0.3804  0.0235\n",
            "     48        0.3929  0.0236\n",
            "     49        0.3961  0.0221\n",
            "     50        0.3819  0.0222\n",
            "  epoch    train_loss     dur\n",
            "-------  ------------  ------\n",
            "      1        \u001b[36m0.6105\u001b[0m  0.0211\n",
            "      2        \u001b[36m0.4787\u001b[0m  0.0227\n",
            "      3        \u001b[36m0.4391\u001b[0m  0.0226\n",
            "      4        \u001b[36m0.4231\u001b[0m  0.0254\n",
            "      5        \u001b[36m0.4133\u001b[0m  0.0228\n",
            "      6        \u001b[36m0.3993\u001b[0m  0.0231\n",
            "      7        0.4023  0.0226\n",
            "      8        0.4006  0.0242\n",
            "      9        \u001b[36m0.3839\u001b[0m  0.0225\n",
            "     10        0.3904  0.0233\n",
            "     11        \u001b[36m0.3832\u001b[0m  0.0215\n",
            "     12        0.3903  0.0254\n",
            "     13        0.3940  0.0257\n",
            "     14        0.3846  0.0226\n",
            "     15        0.3835  0.0249\n",
            "     16        0.3851  0.0218\n",
            "     17        \u001b[36m0.3787\u001b[0m  0.0240\n",
            "     18        0.3923  0.0235\n",
            "     19        \u001b[36m0.3780\u001b[0m  0.0224\n",
            "     20        0.3806  0.0270\n",
            "     21        0.3842  0.0229\n",
            "     22        \u001b[36m0.3714\u001b[0m  0.0234\n",
            "     23        0.3742  0.0251\n",
            "     24        0.3723  0.0221\n",
            "     25        \u001b[36m0.3697\u001b[0m  0.0230\n",
            "     26        0.3731  0.0239\n",
            "     27        0.3721  0.0253\n",
            "     28        0.3748  0.0228\n",
            "     29        0.3778  0.0271\n",
            "     30        0.3729  0.0217\n",
            "     31        \u001b[36m0.3646\u001b[0m  0.0226\n",
            "     32        \u001b[36m0.3615\u001b[0m  0.0233\n",
            "     33        0.3686  0.0234\n",
            "     34        0.3722  0.0233\n",
            "     35        0.3652  0.0260\n",
            "     36        \u001b[36m0.3586\u001b[0m  0.0224\n",
            "     37        0.3641  0.0221\n",
            "     38        \u001b[36m0.3576\u001b[0m  0.0212\n",
            "     39        0.3694  0.0225\n",
            "     40        0.3759  0.0217\n",
            "     41        0.3683  0.0218\n",
            "     42        0.3706  0.0241\n",
            "     43        0.3693  0.0226\n",
            "     44        0.3623  0.0254\n",
            "     45        0.3680  0.0220\n",
            "     46        0.3625  0.0237\n",
            "     47        0.3587  0.0226\n",
            "     48        0.3745  0.0256\n",
            "     49        0.3704  0.0248\n",
            "     50        0.3580  0.0207\n",
            "  epoch    train_loss     dur\n",
            "-------  ------------  ------\n",
            "      1        \u001b[36m0.6260\u001b[0m  0.0185\n",
            "      2        \u001b[36m0.4729\u001b[0m  0.0238\n",
            "      3        \u001b[36m0.4293\u001b[0m  0.0224\n",
            "      4        \u001b[36m0.4176\u001b[0m  0.0226\n",
            "      5        \u001b[36m0.4083\u001b[0m  0.0230\n",
            "      6        \u001b[36m0.4032\u001b[0m  0.0209\n",
            "      7        \u001b[36m0.4013\u001b[0m  0.0235\n",
            "      8        \u001b[36m0.3999\u001b[0m  0.0206\n",
            "      9        0.4020  0.0250\n",
            "     10        \u001b[36m0.3950\u001b[0m  0.0304\n",
            "     11        0.3959  0.0235\n",
            "     12        \u001b[36m0.3859\u001b[0m  0.0255\n",
            "     13        0.3887  0.0218\n",
            "     14        0.3928  0.0221\n",
            "     15        \u001b[36m0.3797\u001b[0m  0.0218\n",
            "     16        0.3867  0.0217\n",
            "     17        0.3848  0.0209\n",
            "     18        \u001b[36m0.3780\u001b[0m  0.0230\n",
            "     19        0.3916  0.0209\n",
            "     20        0.3844  0.0234\n",
            "     21        0.3808  0.0264\n",
            "     22        0.3781  0.0233\n",
            "     23        \u001b[36m0.3730\u001b[0m  0.0222\n",
            "     24        0.3812  0.0217\n",
            "     25        0.3802  0.0241\n",
            "     26        0.3863  0.0208\n",
            "     27        0.3847  0.0225\n",
            "     28        \u001b[36m0.3651\u001b[0m  0.0220\n",
            "     29        0.3728  0.0212\n",
            "     30        0.3717  0.0223\n",
            "     31        0.3869  0.0227\n",
            "     32        0.3744  0.0266\n",
            "     33        \u001b[36m0.3622\u001b[0m  0.0218\n",
            "     34        0.3710  0.0227\n",
            "     35        0.3745  0.0242\n",
            "     36        0.3681  0.0219\n",
            "     37        0.3755  0.0220\n",
            "     38        0.3784  0.0242\n",
            "     39        0.3764  0.0225\n",
            "     40        0.3644  0.0222\n",
            "     41        0.3769  0.0238\n",
            "     42        0.3775  0.0286\n",
            "     43        0.3749  0.0222\n",
            "     44        0.3757  0.0238\n",
            "     45        0.3690  0.0209\n",
            "     46        \u001b[36m0.3559\u001b[0m  0.0223\n",
            "     47        0.3734  0.0248\n",
            "     48        0.3594  0.0222\n",
            "     49        0.3696  0.0287\n",
            "     50        0.3614  0.0235\n",
            "  epoch    train_loss     dur\n",
            "-------  ------------  ------\n",
            "      1        \u001b[36m0.5995\u001b[0m  0.0205\n",
            "      2        \u001b[36m0.5003\u001b[0m  0.0214\n",
            "      3        \u001b[36m0.4584\u001b[0m  0.0232\n",
            "      4        \u001b[36m0.4261\u001b[0m  0.0201\n",
            "      5        \u001b[36m0.4225\u001b[0m  0.0233\n",
            "      6        \u001b[36m0.4041\u001b[0m  0.0285\n",
            "      7        0.4076  0.0221\n",
            "      8        0.4152  0.0224\n",
            "      9        0.4131  0.0273\n",
            "     10        0.4055  0.0226\n",
            "     11        0.4083  0.0233\n",
            "     12        0.4080  0.0207\n",
            "     13        \u001b[36m0.4029\u001b[0m  0.0267\n",
            "     14        0.4058  0.0227\n",
            "     15        0.4079  0.0232\n",
            "     16        \u001b[36m0.3943\u001b[0m  0.0239\n",
            "     17        \u001b[36m0.3894\u001b[0m  0.0240\n",
            "     18        0.4043  0.0205\n",
            "     19        0.3916  0.0240\n",
            "     20        0.3984  0.0228\n",
            "     21        0.3894  0.0278\n",
            "     22        0.3896  0.0238\n",
            "     23        0.4140  0.0221\n",
            "     24        0.3901  0.0216\n",
            "     25        0.3930  0.0267\n",
            "     26        0.4004  0.0223\n",
            "     27        \u001b[36m0.3885\u001b[0m  0.0235\n",
            "     28        0.3899  0.0233\n",
            "     29        0.3929  0.0224\n",
            "     30        0.3907  0.0277\n",
            "     31        \u001b[36m0.3858\u001b[0m  0.0267\n",
            "     32        0.3950  0.0228\n",
            "     33        \u001b[36m0.3846\u001b[0m  0.0225\n",
            "     34        0.3932  0.0234\n",
            "     35        \u001b[36m0.3806\u001b[0m  0.0234\n",
            "     36        0.3906  0.0226\n",
            "     37        0.3843  0.0241\n",
            "     38        \u001b[36m0.3787\u001b[0m  0.0247\n",
            "     39        0.3872  0.0222\n",
            "     40        0.3801  0.0209\n",
            "     41        0.3918  0.0242\n",
            "     42        0.3988  0.0229\n",
            "     43        \u001b[36m0.3611\u001b[0m  0.0226\n",
            "     44        0.3925  0.0253\n",
            "     45        0.3797  0.0214\n",
            "     46        0.3744  0.0231\n",
            "     47        0.3873  0.0249\n",
            "     48        0.3930  0.0226\n",
            "     49        0.3845  0.0216\n",
            "     50        0.3744  0.0241\n",
            "Cross-validation scores: \n",
            "[0.84615385 0.81818182 0.81818182 0.79020979 0.83098592]\n",
            "Average: 0.8207426376440461\n"
          ],
          "name": "stdout"
        }
      ]
    },
    {
      "cell_type": "code",
      "metadata": {
        "id": "oFlIUePGpZYw",
        "colab_type": "code",
        "colab": {
          "base_uri": "https://localhost:8080/",
          "height": 54
        },
        "outputId": "fd3c1048-685c-422c-f1de-67027c8f93e6"
      },
      "source": [
        "valifyAverageScore(np.mean(score2))"
      ],
      "execution_count": 19,
      "outputs": [
        {
          "output_type": "stream",
          "text": [
            "score: 0.8207426376440461\n",
            "平均正解率は0.8以上です.\n"
          ],
          "name": "stdout"
        }
      ]
    },
    {
      "cell_type": "markdown",
      "metadata": {
        "id": "lIVgch2dpphh",
        "colab_type": "text"
      },
      "source": [
        "#より精度を上げるために考えられること\n",
        "* 前処理をもっとやる\n",
        " * 年齢を分ける\n",
        " * 新しい特徴を加える（親, 独身, etc）\n",
        " \n",
        "* （手法2）他の構成を検証する\n",
        " * 隠れ層の数、ノードの数\n",
        " * Activation Functionを変更する\n",
        " * epoch数などの検証\n",
        " \n",
        "* 他の手法を試す\n",
        " * 決定木?\n",
        " * ベイジアンネットワーク\n",
        " * SVM"
      ]
    },
    {
      "cell_type": "markdown",
      "metadata": {
        "id": "ebeBScCN0M3v",
        "colab_type": "text"
      },
      "source": [
        "## 感想\n",
        "この課題を通して、これまで自分がインプットばかりでアウトプットが全くできていなかったということに気づかされました。理論的には理解しているつもりでも実際に取り掛かってみると、思わぬところで躓いてしまったりして時間が掛かってしまいました。とくに前処理についてはこれまで蔑ろにしてきたところなので、きちんと学ぶ必要性を感じました。インターンの開始まではまだ時間があるため、他のデータセットや他の手法などにも挑戦してみたいと思います。"
      ]
    },
    {
      "cell_type": "code",
      "metadata": {
        "id": "ey7V6gBz14kj",
        "colab_type": "code",
        "colab": {}
      },
      "source": [
        ""
      ],
      "execution_count": 0,
      "outputs": []
    }
  ]
}