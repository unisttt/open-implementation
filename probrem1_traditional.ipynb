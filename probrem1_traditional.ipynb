{
  "nbformat": 4,
  "nbformat_minor": 0,
  "metadata": {
    "colab": {
      "name": "probrem1_traditional.ipynb",
      "version": "0.3.2",
      "provenance": [],
      "include_colab_link": true
    },
    "kernelspec": {
      "name": "python3",
      "display_name": "Python 3"
    }
  },
  "cells": [
    {
      "cell_type": "markdown",
      "metadata": {
        "id": "view-in-github",
        "colab_type": "text"
      },
      "source": [
        "<a href=\"https://colab.research.google.com/github/unisttt/open-implementation/blob/master/probrem1_traditional.ipynb\" target=\"_parent\"><img src=\"https://colab.research.google.com/assets/colab-badge.svg\" alt=\"Open In Colab\"/></a>"
      ]
    },
    {
      "cell_type": "code",
      "metadata": {
        "id": "v3KyhSyWbp-r",
        "colab_type": "code",
        "colab": {}
      },
      "source": [
        "# requirement\n",
        "import numpy as np\n",
        "import matplotlib.pyplot as plt\n",
        "import cvxpy"
      ],
      "execution_count": 0,
      "outputs": []
    },
    {
      "cell_type": "code",
      "metadata": {
        "id": "iBPeWi5AcJEY",
        "colab_type": "code",
        "colab": {
          "base_uri": "https://localhost:8080/",
          "height": 119
        },
        "outputId": "febe91b5-fbb3-41be-a290-5d9303af6f91"
      },
      "source": [
        "def createDataset():\n",
        "  np.random.seed(111)\n",
        "  n = 200\n",
        "  x = 3 * (np.random.rand(n, 4) - 0.5)\n",
        "  y = (2 * x[:, 0] - 1 * x[:, 1] + 0.5 + 0.5 * np.random.randn(n)) > 0\n",
        "#   y = 2 * y -1\n",
        "  y = y + 1 -1\n",
        "  y.shape = (y.size, 1)\n",
        "  \n",
        "  return x, y\n",
        "\n",
        "X, y = createDataset()\n",
        "m, n = np.shape(X)\n",
        "print(X[:3])\n",
        "print(y[:3])"
      ],
      "execution_count": 9,
      "outputs": [
        {
          "output_type": "stream",
          "text": [
            "[[ 0.33651053 -0.99279074 -0.19182294  0.80778742]\n",
            " [-0.61402409 -1.05251113 -1.43256503 -0.23932652]\n",
            " [-0.78395358 -0.48703142  1.47213739 -0.78682064]]\n",
            "[[1]\n",
            " [1]\n",
            " [0]]\n"
          ],
          "name": "stdout"
        }
      ]
    },
    {
      "cell_type": "code",
      "metadata": {
        "id": "QLqG3X4bcNXz",
        "colab_type": "code",
        "colab": {
          "base_uri": "https://localhost:8080/",
          "height": 102
        },
        "outputId": "2d19f7fe-5e4e-411e-dc9a-508f4572db11"
      },
      "source": [
        "# x = np.hstack((np.ones((m, 1)), x))\n",
        "X = np.append(np.ones((m, 1)), X, axis=1)\n",
        "m, n = np.shape(X)\n",
        "print(X[:3])\n",
        "print(\"({}, {})\".format(m, n))\n",
        "print(np.shape(y))"
      ],
      "execution_count": 10,
      "outputs": [
        {
          "output_type": "stream",
          "text": [
            "[[ 1.          0.33651053 -0.99279074 -0.19182294  0.80778742]\n",
            " [ 1.         -0.61402409 -1.05251113 -1.43256503 -0.23932652]\n",
            " [ 1.         -0.78395358 -0.48703142  1.47213739 -0.78682064]]\n",
            "(200, 5)\n",
            "(200, 1)\n"
          ],
          "name": "stdout"
        }
      ]
    },
    {
      "cell_type": "code",
      "metadata": {
        "id": "DFBktB7UcNz9",
        "colab_type": "code",
        "colab": {}
      },
      "source": [
        "def sigmoid(x):\n",
        "  return (1 / (1 + np.exp(-x)))"
      ],
      "execution_count": 0,
      "outputs": []
    },
    {
      "cell_type": "code",
      "metadata": {
        "id": "kjvJsN5FcR7i",
        "colab_type": "code",
        "colab": {}
      },
      "source": [
        "def costFunctionReg(theta, X, y, lam):\n",
        "  m = len(y)\n",
        "  J = 0\n",
        "  grad = np.zeros(np.shape(theta))\n",
        "  \n",
        "  h_theta = sigmoid(np.dot(X, theta))\n",
        "  pred1 = np.dot(-y.T, np.log(h_theta))\n",
        "  pred0 = np.dot(-(1 - y).T, np.log(1 - h_theta))\n",
        "  # theta0はregularizeしないように注意する\n",
        "  norm = (lam / (2 * m)) * np.dot(theta[1:].T, theta[1:])\n",
        "  \n",
        "  J = (1/m) * (pred1 + pred0) + norm\n",
        "  J.shape = (J.size)    # (1, 1) => (1,)\n",
        "  \n",
        "  # X[:, 0] は全て1の列\n",
        "  grad0 = (1/m) * np.dot(X[:, 0].T, (h_theta - y))\n",
        "  grad_other = (1/m) * np.dot(X[:, 1:].T, (h_theta - y)) + (lam / m) * theta[1:]\n",
        "  grad = np.append(grad0, grad_other)\n",
        "  grad.shape = (grad.size, 1)    # (5,) => (5, 1)\n",
        "  \n",
        "  return J, grad"
      ],
      "execution_count": 0,
      "outputs": []
    },
    {
      "cell_type": "code",
      "metadata": {
        "id": "r8LWXIqucasX",
        "colab_type": "code",
        "colab": {}
      },
      "source": [
        "theta = np.random.randn(n, 1)\n",
        "epoch = 1000\n",
        "lr = 0.1\n",
        "cost_hist = np.array([])\n",
        "\n",
        "for t in range(epoch):\n",
        "  cost, grad = costFunctionReg(theta, X, y, 1)\n",
        "  cost_hist = np.append(cost_hist, cost)\n",
        "  theta -= lr * grad"
      ],
      "execution_count": 0,
      "outputs": []
    },
    {
      "cell_type": "code",
      "metadata": {
        "id": "1MdwZ6J9chm5",
        "colab_type": "code",
        "colab": {
          "base_uri": "https://localhost:8080/",
          "height": 286
        },
        "outputId": "9944a31d-fc3b-4c20-cd5a-892acc9485a6"
      },
      "source": [
        " plt.plot(range(len(cost_hist)), cost_hist)"
      ],
      "execution_count": 14,
      "outputs": [
        {
          "output_type": "execute_result",
          "data": {
            "text/plain": [
              "[<matplotlib.lines.Line2D at 0x7f3cfb3e0a20>]"
            ]
          },
          "metadata": {
            "tags": []
          },
          "execution_count": 14
        },
        {
          "output_type": "display_data",
          "data": {
            "image/png": "[encoded data removed]",
            "text/plain": [
              "<Figure size 432x288 with 1 Axes>"
            ]
          },
          "metadata": {
            "tags": []
          }
        }
      ]
    }
  ]
}