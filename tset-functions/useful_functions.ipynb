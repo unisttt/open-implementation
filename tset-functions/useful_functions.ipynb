{
  "nbformat": 4,
  "nbformat_minor": 0,
  "metadata": {
    "colab": {
      "name": "useful_functions.ipynb",
      "version": "0.3.2",
      "provenance": [],
      "include_colab_link": true
    },
    "kernelspec": {
      "name": "python3",
      "display_name": "Python 3"
    }
  },
  "cells": [
    {
      "cell_type": "markdown",
      "metadata": {
        "id": "view-in-github",
        "colab_type": "text"
      },
      "source": [
        "<a href=\"https://colab.research.google.com/github/unisttt/open-implementation/blob/master/useful_functions.ipynb\" target=\"_parent\"><img src=\"https://colab.research.google.com/assets/colab-badge.svg\" alt=\"Open In Colab\"/></a>"
      ]
    },
    {
      "cell_type": "markdown",
      "metadata": {
        "id": "DAFsHsmZwJoY",
        "colab_type": "text"
      },
      "source": [
        "### MATLAB style find()\n",
        "<p>>> a = [1, 2, 3, 1, 2, 3, 1, 2, 3]</p>\n",
        "<p>>> find(a > 2)</p>\n",
        "<p>[3, 6, 9]</p>\n",
        "（note: MATLABのインデックスは1から始まる）"
      ]
    },
    {
      "cell_type": "code",
      "metadata": {
        "id": "tKrBAvjiw9Ur",
        "colab_type": "code",
        "outputId": "bec03d10-9f44-446f-be43-99631c227073",
        "colab": {
          "base_uri": "https://localhost:8080/",
          "height": 34
        }
      },
      "source": [
        "# python for loop\n",
        "def indices(a, func):\n",
        "  return [i for (i, val) in enumerate(a) if func(val)]\n",
        "\n",
        "a = [1, 2, 3, 1, 2, 3, 1, 2, 3]\n",
        "inds = indices(a, lambda x: x > 2)\n",
        "inds"
      ],
      "execution_count": 0,
      "outputs": [
        {
          "output_type": "execute_result",
          "data": {
            "text/plain": [
              "[2, 5, 8]"
            ]
          },
          "metadata": {
            "tags": []
          },
          "execution_count": 1
        }
      ]
    },
    {
      "cell_type": "code",
      "metadata": {
        "id": "6DdhVkBIxZ_J",
        "colab_type": "code",
        "outputId": "23a5c8ed-ce0e-4a6a-9128-e019d121f047",
        "colab": {
          "base_uri": "https://localhost:8080/",
          "height": 34
        }
      },
      "source": [
        "# np.where\n",
        "import numpy as np\n",
        "a = np.array([1, 2, 3, 1, 2, 3, 1, 2, 3])\n",
        "np.where(a > 2)"
      ],
      "execution_count": 0,
      "outputs": [
        {
          "output_type": "execute_result",
          "data": {
            "text/plain": [
              "(array([2, 5, 8]),)"
            ]
          },
          "metadata": {
            "tags": []
          },
          "execution_count": 3
        }
      ]
    },
    {
      "cell_type": "code",
      "metadata": {
        "id": "QRjvaHjfxrjk",
        "colab_type": "code",
        "colab": {}
      },
      "source": [
        ""
      ],
      "execution_count": 0,
      "outputs": []
    }
  ]
}