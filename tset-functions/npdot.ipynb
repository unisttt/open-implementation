{
  "nbformat": 4,
  "nbformat_minor": 0,
  "metadata": {
    "colab": {
      "name": "npdot.ipynb",
      "version": "0.3.2",
      "provenance": [],
      "include_colab_link": true
    },
    "kernelspec": {
      "name": "python3",
      "display_name": "Python 3"
    }
  },
  "cells": [
    {
      "cell_type": "markdown",
      "metadata": {
        "id": "view-in-github",
        "colab_type": "text"
      },
      "source": [
        "<a href=\"https://colab.research.google.com/github/unisttt/open-implementation/blob/master/npdot.ipynb\" target=\"_parent\"><img src=\"https://colab.research.google.com/assets/colab-badge.svg\" alt=\"Open In Colab\"/></a>"
      ]
    },
    {
      "cell_type": "code",
      "metadata": {
        "id": "6w7_ZP7XyqHV",
        "colab_type": "code",
        "outputId": "64306b5c-0f38-4027-ef33-0f67bb47a3f0",
        "colab": {
          "base_uri": "https://localhost:8080/",
          "height": 1000
        }
      },
      "source": [
        "import numpy as np\n",
        "\n",
        "# 行 x 行でもできるけど出力がarrayでない\n",
        "a = np.random.randn(10)\n",
        "b = np.random.randn(10)\n",
        "print(\"-\"*10)\n",
        "print(a.shape)\n",
        "print(b.shape)\n",
        "print(np.dot(a, b))\n",
        "print(type(np.dot(a, b)))\n",
        "\n",
        "# (10, 1) dot (10, 1)はできない\n",
        "a.shape = (a.size, 1)\n",
        "b.shape = (b.size, 1)\n",
        "print(\"-\"*10)\n",
        "print(a.shape)\n",
        "print(b.shape)\n",
        "# ValueError: shapes (10,1) and (10,1) not aligned: 1 (dim 1) != 10 (dim 0)\n",
        "# print(np.dot(a, b))\n",
        "print(\"ValueError: shapes (10,1) and (10,1) not aligned: 1 (dim 1) != 10 (dim 0)\")\n",
        "\n",
        "# 当然、(1, 10) dot (10, 1)はできる。出力はndarray\n",
        "# 表示では、(10, ) dot (10, 1)\n",
        "a.shape = (a.size)\n",
        "print(\"-\"*10)\n",
        "print(a.shape)\n",
        "print(b.shape)\n",
        "print(np.dot(a, b))\n",
        "print(np.dot(a, b).shape)\n",
        "print(type(np.dot(a, b)))\n",
        "\n",
        "# (10, 1) dot (1, 10)\n",
        "a.shape = (a.size, 1)\n",
        "print(\"-\"*10)\n",
        "print(a.shape)\n",
        "print(b.shape)\n",
        "print(np.dot(a, b.T))\n",
        "print(np.dot(a, b.T).shape)\n",
        "print(type(np.dot(a, b.T)))\n",
        "\n",
        "\n",
        "c = np.array([1, 2, 3])\n",
        "print(\"-\"*10)\n",
        "print(c.shape)\n",
        "print(np.dot(c, c.T))\n",
        "print(type(np.dot(c, c.T)))\n",
        "\n",
        "d = np.random.randn(3, 2)\n",
        "e = np.random.randn(3, 2)\n",
        "print(\"-\"*10)\n",
        "print(d.shape)\n",
        "print(e.shape)\n",
        "print(np.dot(d.T, e))\n",
        "print(type(np.dot(d.T, e)))"
      ],
      "execution_count": 8,
      "outputs": [
        {
          "output_type": "stream",
          "text": [
            "----------\n",
            "(10,)\n",
            "(10,)\n",
            "-4.143410401980173\n",
            "<class 'numpy.float64'>\n",
            "----------\n",
            "(10, 1)\n",
            "(10, 1)\n",
            "ValueError: shapes (10,1) and (10,1) not aligned: 1 (dim 1) != 10 (dim 0)\n",
            "----------\n",
            "(10,)\n",
            "(10, 1)\n",
            "[-4.1434104]\n",
            "(1,)\n",
            "<class 'numpy.ndarray'>\n",
            "----------\n",
            "(10, 1)\n",
            "(10, 1)\n",
            "[[-1.27157159e-01  6.45210555e-01  1.08092904e-01  3.32813957e-02\n",
            "   4.29380614e-01  6.00594735e-02 -1.47245362e-01 -2.15341687e-01\n",
            "   2.31764987e-01  1.87010593e-01]\n",
            " [ 1.04067538e-01 -5.28051072e-01 -8.84650344e-02 -2.72380489e-02\n",
            "  -3.51412251e-01 -4.91536741e-02  1.20508058e-01  1.76239225e-01\n",
            "  -1.89680328e-01 -1.53052586e-01]\n",
            " [ 1.84618922e-01 -9.36778380e-01 -1.56939614e-01 -4.83211126e-02\n",
            "  -6.23415833e-01 -8.72000866e-02  2.13784896e-01  3.12653652e-01\n",
            "  -3.36498569e-01 -2.71519861e-01]\n",
            " [-2.93956222e-01  1.49156886e+00  2.49884333e-01  7.69384394e-02\n",
            "   9.92622867e-01  1.38842800e-01 -3.40395231e-01 -4.97817264e-01\n",
            "   5.35783913e-01  4.32322711e-01]\n",
            " [ 1.16948336e+00 -5.93409773e+00 -9.94146566e-01 -3.06093961e-01\n",
            "  -3.94907756e+00 -5.52375938e-01  1.35423756e+00  1.98052962e+00\n",
            "  -2.13157716e+00 -1.71996432e+00]\n",
            " [-8.10550522e-01  4.11282982e+00  6.89027351e-01  2.12148910e-01\n",
            "   2.73704355e+00  3.82843076e-01 -9.38600756e-01 -1.37267393e+00\n",
            "   1.47736260e+00  1.19208022e+00]\n",
            " [ 8.64058920e-02 -4.38433779e-01 -7.34513411e-02 -2.26153896e-02\n",
            "  -2.91772916e-01 -4.08116417e-02  1.00056238e-01  1.46329084e-01\n",
            "  -1.57489052e-01 -1.27077526e-01]\n",
            " [ 1.26526928e-01 -6.42012690e-01 -1.07557162e-01 -3.31164427e-02\n",
            "  -4.27252470e-01 -5.97618000e-02  1.46515568e-01  2.14274386e-01\n",
            "  -2.30616287e-01 -1.86083710e-01]\n",
            " [ 8.70566780e-02 -4.41735945e-01 -7.40045569e-02 -2.27857226e-02\n",
            "  -2.93970472e-01 -4.11190240e-02  1.00809834e-01  1.47431196e-01\n",
            "  -1.58675218e-01 -1.28034640e-01]\n",
            " [-1.61697075e-03  8.20470203e-03  1.37454365e-03  4.23216781e-04\n",
            "   5.46014005e-03  7.63735311e-04 -1.87241872e-03 -2.73835318e-03\n",
            "   2.94719707e-03  2.37808600e-03]]\n",
            "(10, 10)\n",
            "<class 'numpy.ndarray'>\n",
            "----------\n",
            "(3,)\n",
            "14\n",
            "<class 'numpy.int64'>\n",
            "----------\n",
            "(3, 2)\n",
            "(3, 2)\n",
            "[[-0.318537   -2.70675176]\n",
            " [-0.03462549  1.25026457]]\n",
            "<class 'numpy.ndarray'>\n"
          ],
          "name": "stdout"
        }
      ]
    },
    {
      "cell_type": "code",
      "metadata": {
        "id": "3pfDYBai2b-M",
        "colab_type": "code",
        "colab": {}
      },
      "source": [
        ""
      ],
      "execution_count": 0,
      "outputs": []
    }
  ]
}