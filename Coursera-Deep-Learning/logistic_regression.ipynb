{
  "nbformat": 4,
  "nbformat_minor": 0,
  "metadata": {
    "colab": {
      "name": "logistic_regression.ipynb",
      "version": "0.3.2",
      "provenance": [],
      "include_colab_link": true
    },
    "kernelspec": {
      "name": "python3",
      "display_name": "Python 3"
    }
  },
  "cells": [
    {
      "cell_type": "markdown",
      "metadata": {
        "id": "view-in-github",
        "colab_type": "text"
      },
      "source": [
        "<a href=\"https://colab.research.google.com/github/unisttt/open-implementation/blob/master/logistic_regression.ipynb\" target=\"_parent\"><img src=\"https://colab.research.google.com/assets/colab-badge.svg\" alt=\"Open In Colab\"/></a>"
      ]
    },
    {
      "cell_type": "code",
      "metadata": {
        "id": "mV0dUkvmbdre",
        "colab_type": "code",
        "colab": {}
      },
      "source": [
        "import numpy as np\n",
        "import pandas as pd\n",
        "import matplotlib.pyplot as plt"
      ],
      "execution_count": 0,
      "outputs": []
    },
    {
      "cell_type": "code",
      "metadata": {
        "id": "Scs5xlw4b7Lc",
        "colab_type": "code",
        "colab": {}
      },
      "source": [
        "df = pd.read_csv(\"ex2data2.csv\", header=None, sep=\",\")"
      ],
      "execution_count": 0,
      "outputs": []
    },
    {
      "cell_type": "code",
      "metadata": {
        "id": "cFN29bgLcCGU",
        "colab_type": "code",
        "colab": {
          "base_uri": "https://localhost:8080/",
          "height": 204
        },
        "outputId": "dcafdd70-d38a-4902-a950-161cf187a2ab"
      },
      "source": [
        "df.head()"
      ],
      "execution_count": 104,
      "outputs": [
        {
          "output_type": "execute_result",
          "data": {
            "text/html": [
              "<div>\n",
              "<style scoped>\n",
              "    .dataframe tbody tr th:only-of-type {\n",
              "        vertical-align: middle;\n",
              "    }\n",
              "\n",
              "    .dataframe tbody tr th {\n",
              "        vertical-align: top;\n",
              "    }\n",
              "\n",
              "    .dataframe thead th {\n",
              "        text-align: right;\n",
              "    }\n",
              "</style>\n",
              "<table border=\"1\" class=\"dataframe\">\n",
              "  <thead>\n",
              "    <tr style=\"text-align: right;\">\n",
              "      <th></th>\n",
              "      <th>0</th>\n",
              "      <th>1</th>\n",
              "      <th>2</th>\n",
              "    </tr>\n",
              "  </thead>\n",
              "  <tbody>\n",
              "    <tr>\n",
              "      <th>0</th>\n",
              "      <td>0.051267</td>\n",
              "      <td>0.69956</td>\n",
              "      <td>1</td>\n",
              "    </tr>\n",
              "    <tr>\n",
              "      <th>1</th>\n",
              "      <td>-0.092742</td>\n",
              "      <td>0.68494</td>\n",
              "      <td>1</td>\n",
              "    </tr>\n",
              "    <tr>\n",
              "      <th>2</th>\n",
              "      <td>-0.213710</td>\n",
              "      <td>0.69225</td>\n",
              "      <td>1</td>\n",
              "    </tr>\n",
              "    <tr>\n",
              "      <th>3</th>\n",
              "      <td>-0.375000</td>\n",
              "      <td>0.50219</td>\n",
              "      <td>1</td>\n",
              "    </tr>\n",
              "    <tr>\n",
              "      <th>4</th>\n",
              "      <td>-0.513250</td>\n",
              "      <td>0.46564</td>\n",
              "      <td>1</td>\n",
              "    </tr>\n",
              "  </tbody>\n",
              "</table>\n",
              "</div>"
            ],
            "text/plain": [
              "          0        1  2\n",
              "0  0.051267  0.69956  1\n",
              "1 -0.092742  0.68494  1\n",
              "2 -0.213710  0.69225  1\n",
              "3 -0.375000  0.50219  1\n",
              "4 -0.513250  0.46564  1"
            ]
          },
          "metadata": {
            "tags": []
          },
          "execution_count": 104
        }
      ]
    },
    {
      "cell_type": "code",
      "metadata": {
        "id": "ATgeOHpxcKuu",
        "colab_type": "code",
        "colab": {
          "base_uri": "https://localhost:8080/",
          "height": 136
        },
        "outputId": "5f130396-c9a8-45ed-ad4b-7320be8476d2"
      },
      "source": [
        "# df => numpy\n",
        "matrix = df.values\n",
        "m, n = matrix.shape\n",
        "print(matrix[:5])\n",
        "print(\"({} {})\".format(m, n))\n",
        "print(matrix.size)"
      ],
      "execution_count": 105,
      "outputs": [
        {
          "output_type": "stream",
          "text": [
            "[[ 0.051267  0.69956   1.      ]\n",
            " [-0.092742  0.68494   1.      ]\n",
            " [-0.21371   0.69225   1.      ]\n",
            " [-0.375     0.50219   1.      ]\n",
            " [-0.51325   0.46564   1.      ]]\n",
            "(118 3)\n",
            "354\n"
          ],
          "name": "stdout"
        }
      ]
    },
    {
      "cell_type": "code",
      "metadata": {
        "id": "3blH34udciL2",
        "colab_type": "code",
        "colab": {}
      },
      "source": [
        "X = matrix[:, [0, 1]]\n",
        "y = matrix[:, 2]\n",
        "y.shape = (y.size, 1)"
      ],
      "execution_count": 0,
      "outputs": []
    },
    {
      "cell_type": "code",
      "metadata": {
        "id": "F_cO0ZcfBimm",
        "colab_type": "code",
        "colab": {}
      },
      "source": [
        "def createDataset():\n",
        "  X = matrix[:, [0, 1]]\n",
        "  y = matrix[:, 2]\n",
        "  y.shape = (y.size, 1)\n",
        "  return X, y"
      ],
      "execution_count": 0,
      "outputs": []
    },
    {
      "cell_type": "code",
      "metadata": {
        "id": "ZGUae1HhA3lQ",
        "colab_type": "code",
        "colab": {
          "base_uri": "https://localhost:8080/",
          "height": 269
        },
        "outputId": "dbe7819a-932b-469d-f52c-e52455068bd9"
      },
      "source": [
        "def plotData(X, y):\n",
        "  pos = np.where(y == 1)\n",
        "  neg = np.where(y == 0)\n",
        "  plt.scatter(X[pos, 0], X[pos, 1], marker=\"o\", c=\"b\")\n",
        "  plt.scatter(X[neg, 0], X[neg, 1], marker=\"x\", c=\"r\")\n",
        "\n",
        "plotData(X, y)"
      ],
      "execution_count": 108,
      "outputs": [
        {
          "output_type": "display_data",
          "data": {
            "image/png": "[encoded data removed]",
            "text/plain": [
              "<Figure size 432x288 with 1 Axes>"
            ]
          },
          "metadata": {
            "tags": []
          }
        }
      ]
    },
    {
      "cell_type": "code",
      "metadata": {
        "id": "cLqwkU2Iu6U7",
        "colab_type": "code",
        "colab": {}
      },
      "source": [
        "def sigmoid(x):\n",
        "  return (1 / (1 + np.exp(-x)))"
      ],
      "execution_count": 0,
      "outputs": []
    },
    {
      "cell_type": "code",
      "metadata": {
        "id": "K1JnKY-scl-q",
        "colab_type": "code",
        "colab": {
          "base_uri": "https://localhost:8080/",
          "height": 153
        },
        "outputId": "0c43b455-fd33-4d28-e9c3-2d9d1c9aea7f"
      },
      "source": [
        "def mapfeature(x1, x2):\n",
        "  x1.shape = (x1.size, 1)\n",
        "  x2.shape = (x2.size, 1)\n",
        "  \n",
        "  degree = 6\n",
        "  out = np.ones((x1.size, 1))\n",
        "  for i in range(1, degree + 1):\n",
        "    for j in range(0, i+1):\n",
        "      r = x1 ** (i - j) * x2 ** j\n",
        "      out = np.append(out, r, axis=1)\n",
        "      \n",
        "  return out\n",
        "\n",
        "# mapfeature(X[:, 0], X[:, 1])\n",
        "X = mapfeature(X[:, 0], X[:, 1])\n",
        "m, n = X.shape\n",
        "print(X.shape)\n",
        "print(X[0])"
      ],
      "execution_count": 110,
      "outputs": [
        {
          "output_type": "stream",
          "text": [
            "(118, 28)\n",
            "[1.00000000e+00 5.12670000e-02 6.99560000e-01 2.62830529e-03\n",
            " 3.58643425e-02 4.89384194e-01 1.34745327e-04 1.83865725e-03\n",
            " 2.50892595e-02 3.42353606e-01 6.90798869e-06 9.42624411e-05\n",
            " 1.28625106e-03 1.75514423e-02 2.39496889e-01 3.54151856e-07\n",
            " 4.83255257e-06 6.59422333e-05 8.99809795e-04 1.22782870e-02\n",
            " 1.67542444e-01 1.81563032e-08 2.47750473e-07 3.38066048e-06\n",
            " 4.61305487e-05 6.29470940e-04 8.58939846e-03 1.17205992e-01]\n"
          ],
          "name": "stdout"
        }
      ]
    },
    {
      "cell_type": "code",
      "metadata": {
        "id": "wqcZWxh4dQy0",
        "colab_type": "code",
        "colab": {
          "base_uri": "https://localhost:8080/",
          "height": 34
        },
        "outputId": "f2b6ab97-cc20-40de-aced-377813cb381b"
      },
      "source": [
        "initial_theta = np.zeros((n, 1))\n",
        "print(initial_theta.shape)"
      ],
      "execution_count": 111,
      "outputs": [
        {
          "output_type": "stream",
          "text": [
            "(28, 1)\n"
          ],
          "name": "stdout"
        }
      ]
    },
    {
      "cell_type": "code",
      "metadata": {
        "id": "16RnF8NfrBdV",
        "colab_type": "code",
        "colab": {}
      },
      "source": [
        "def costFunctionReg(theta, X, y, lam):\n",
        "  m = len(y)\n",
        "  J = 0\n",
        "  grad = np.zeros(np.shape(theta))\n",
        "  \n",
        "  h_theta = sigmoid(np.dot(X, theta))\n",
        "  pred1 = -1 * np.dot(y.T, np.log(h_theta))\n",
        "  pred0 = -1 * np.dot((1 - y).T, np.log(1 - h_theta))\n",
        "  # theta0はregularizeしないように注意する\n",
        "  norm = (lam / (2 * m)) * np.dot(theta[1:].T, theta[1:])\n",
        "  \n",
        "  J = (1/m) * (pred1 + pred0) + norm\n",
        "  J.shape = (J.size)    # (1, 1) => (1,)\n",
        "  \n",
        "  # X[:, 0] は全て1の列\n",
        "  grad0 = (1/m) * np.dot(X[:, 0].T, (h_theta - y))\n",
        "  grad_other = (1/m) * np.dot(X[:, 1:].T, (h_theta - y)) + (lam / m) * theta[1:]\n",
        "  grad = np.append(grad0, grad_other)\n",
        "  grad.shape = (grad.size, 1)    # (28,) => (28, 1)\n",
        "#   print(grad.shape)\n",
        "  \n",
        "  return J, grad\n",
        "\n",
        "lam = 1\n",
        "cost , grad = costFunctionReg(initial_theta, X, y, lam)"
      ],
      "execution_count": 0,
      "outputs": []
    },
    {
      "cell_type": "code",
      "metadata": {
        "id": "ZGs89Yylm9pu",
        "colab_type": "code",
        "colab": {
          "base_uri": "https://localhost:8080/",
          "height": 85
        },
        "outputId": "55e4d64a-2de9-4df6-8f7f-122a63e41fbe"
      },
      "source": [
        "print(cost)\n",
        "print(grad[:3])"
      ],
      "execution_count": 113,
      "outputs": [
        {
          "output_type": "stream",
          "text": [
            "[0.69314718]\n",
            "[[8.47457627e-03]\n",
            " [1.87880932e-02]\n",
            " [7.77711864e-05]]\n"
          ],
          "name": "stdout"
        }
      ]
    },
    {
      "cell_type": "code",
      "metadata": {
        "id": "GGQKTjo5reo0",
        "colab_type": "code",
        "colab": {
          "base_uri": "https://localhost:8080/",
          "height": 119
        },
        "outputId": "6afa8955-39d2-444a-87b8-d4ffdc0ffaf9"
      },
      "source": [
        "test_theta = np.ones((n, 1))\n",
        "cost, grad = costFunctionReg(test_theta, X, y, 10)\n",
        "print(cost)\n",
        "print(grad[:5])"
      ],
      "execution_count": 114,
      "outputs": [
        {
          "output_type": "stream",
          "text": [
            "[3.16450933]\n",
            "[[0.34604507]\n",
            " [0.16135192]\n",
            " [0.19479576]\n",
            " [0.22686278]\n",
            " [0.09218568]]\n"
          ],
          "name": "stdout"
        }
      ]
    },
    {
      "cell_type": "code",
      "metadata": {
        "id": "1Whpi0h07Wn2",
        "colab_type": "code",
        "colab": {}
      },
      "source": [
        "theta = np.random.randn(n, 1)\n",
        "epoch = 1000\n",
        "lr = 0.1\n",
        "cost_hist = np.array([])\n",
        "\n",
        "for t in range(epoch):\n",
        "  cost, grad = costFunctionReg(theta, X, y, 1)\n",
        "#   cost_hist.append(cost)\n",
        "  cost_hist = np.append(cost_hist, cost)\n",
        "  theta -= lr * grad"
      ],
      "execution_count": 0,
      "outputs": []
    },
    {
      "cell_type": "code",
      "metadata": {
        "id": "AxWCojUb9D0h",
        "colab_type": "code",
        "colab": {}
      },
      "source": [
        "# cost_hist\n",
        "# [c for i, c in enumerate(cost_hist) if i %10 == 0]"
      ],
      "execution_count": 0,
      "outputs": []
    },
    {
      "cell_type": "code",
      "metadata": {
        "id": "BlYjYDdV9MAY",
        "colab_type": "code",
        "colab": {
          "base_uri": "https://localhost:8080/",
          "height": 286
        },
        "outputId": "6ce34121-d123-4ebc-cc1a-1c695e429541"
      },
      "source": [
        "plt.plot(range(epoch), cost_hist)"
      ],
      "execution_count": 117,
      "outputs": [
        {
          "output_type": "execute_result",
          "data": {
            "text/plain": [
              "[<matplotlib.lines.Line2D at 0x7fe1e7879978>]"
            ]
          },
          "metadata": {
            "tags": []
          },
          "execution_count": 117
        },
        {
          "output_type": "display_data",
          "data": {
            "image/png": "[encoded data removed]",
            "text/plain": [
              "<Figure size 432x288 with 1 Axes>"
            ]
          },
          "metadata": {
            "tags": []
          }
        }
      ]
    },
    {
      "cell_type": "markdown",
      "metadata": {
        "id": "evFaPXCZD7Uz",
        "colab_type": "text"
      },
      "source": [
        "## Dicision Boundaryを表示させたい"
      ]
    },
    {
      "cell_type": "code",
      "metadata": {
        "id": "VOwkYcZCAGTp",
        "colab_type": "code",
        "colab": {
          "base_uri": "https://localhost:8080/",
          "height": 269
        },
        "outputId": "dd5e1a76-9a00-492a-ffd2-e6b453b3665b"
      },
      "source": [
        "plotData(X[:, 1:3], y)\n"
      ],
      "execution_count": 118,
      "outputs": [
        {
          "output_type": "display_data",
          "data": {
            "image/png": "[encoded data removed]",
            "text/plain": [
              "<Figure size 432x288 with 1 Axes>"
            ]
          },
          "metadata": {
            "tags": []
          }
        }
      ]
    },
    {
      "cell_type": "markdown",
      "metadata": {
        "id": "Go9dAfX4CtrF",
        "colab_type": "text"
      },
      "source": [
        "\n",
        "\n",
        "```\n",
        "# これはコードとして書式設定されます\n",
        "function plotDecisionBoundary(theta, X, y)\n",
        "%PLOTDECISIONBOUNDARY Plots the data points X and y into a new figure with\n",
        "%the decision boundary defined by theta\n",
        "%   PLOTDECISIONBOUNDARY(theta, X,y) plots the data points with + for the \n",
        "%   positive examples and o for the negative examples. X is assumed to be \n",
        "%   a either \n",
        "%   1) Mx3 matrix, where the first column is an all-ones column for the \n",
        "%      intercept.\n",
        "%   2) MxN, N>3 matrix, where the first column is all-ones\n",
        "\n",
        "% Plot Data\n",
        "plotData(X(:,2:3), y);\n",
        "hold on\n",
        "\n",
        "if size(X, 2) <= 3\n",
        "    % Only need 2 points to define a line, so choose two endpoints\n",
        "    plot_x = [min(X(:,2))-2,  max(X(:,2))+2];\n",
        "\n",
        "    % Calculate the decision boundary line\n",
        "    plot_y = (-1./theta(3)).*(theta(2).*plot_x + theta(1));\n",
        "\n",
        "    % Plot, and adjust axes for better viewing\n",
        "    plot(plot_x, plot_y)\n",
        "    \n",
        "    % Legend, specific for the exercise\n",
        "    legend('Admitted', 'Not admitted', 'Decision Boundary')\n",
        "    axis([30, 100, 30, 100])\n",
        "else\n",
        "    % Here is the grid range\n",
        "    u = linspace(-1, 1.5, 50);\n",
        "    v = linspace(-1, 1.5, 50);\n",
        "\n",
        "    z = zeros(length(u), length(v));\n",
        "    % Evaluate z = theta*x over the grid\n",
        "    for i = 1:length(u)\n",
        "        for j = 1:length(v)\n",
        "            z(i,j) = mapFeature(u(i), v(j))*theta;\n",
        "        end\n",
        "    end\n",
        "    z = z'; % important to transpose z before calling contour\n",
        "\n",
        "    % Plot z = 0\n",
        "    % Notice you need to specify the range [0, 0]\n",
        "    contour(u, v, z, [0, 0], 'LineWidth', 2)\n",
        "end\n",
        "hold off\n",
        "\n",
        "end\n",
        "```\n",
        "\n"
      ]
    },
    {
      "cell_type": "code",
      "metadata": {
        "id": "wS0Tn9N4Eaq1",
        "colab_type": "code",
        "colab": {}
      },
      "source": [
        ""
      ],
      "execution_count": 0,
      "outputs": []
    }
  ]
}