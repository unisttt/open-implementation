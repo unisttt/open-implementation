{
  "nbformat": 4,
  "nbformat_minor": 0,
  "metadata": {
    "colab": {
      "name": "regression.ipynb",
      "version": "0.3.2",
      "provenance": [],
      "collapsed_sections": [],
      "include_colab_link": true
    },
    "kernelspec": {
      "name": "python3",
      "display_name": "Python 3"
    }
  },
  "cells": [
    {
      "cell_type": "markdown",
      "metadata": {
        "id": "view-in-github",
        "colab_type": "text"
      },
      "source": [
        "<a href=\"https://colab.research.google.com/github/unisttt/open-implementation/blob/master/regression.ipynb\" target=\"_parent\"><img src=\"https://colab.research.google.com/assets/colab-badge.svg\" alt=\"Open In Colab\"/></a>"
      ]
    },
    {
      "cell_type": "code",
      "metadata": {
        "id": "pfJ_PKZIskTs",
        "colab_type": "code",
        "colab": {}
      },
      "source": [
        "import numpy as np\n",
        "import matplotlib.pyplot as plt\n",
        "\n"
      ],
      "execution_count": 0,
      "outputs": []
    },
    {
      "cell_type": "code",
      "metadata": {
        "id": "GrFar9zYsMnS",
        "colab_type": "code",
        "colab": {}
      },
      "source": [
        "theta0 = 0.0\n",
        "theta1 = 0.0\n",
        "theta2 = 0.0\n",
        "params = np.array([theta0, theta1])\n",
        "\n",
        "x0 = np.array([1.0, 1.0, 1.0])\n",
        "x1 = np.array([1.0, 2.0, 4.0])\n",
        "x2 = np.array([3.0, 4.0, 6.0])\n",
        "X = np.array([x0, x1]).T\n",
        "\n",
        "y = np.array([2.0, 3.0, 6.0])"
      ],
      "execution_count": 0,
      "outputs": []
    },
    {
      "cell_type": "code",
      "metadata": {
        "id": "qYOAPpwltulY",
        "colab_type": "code",
        "colab": {
          "base_uri": "https://localhost:8080/",
          "height": 102
        },
        "outputId": "c9f1e78c-54b3-47f9-bbfb-0ff4efec58e5"
      },
      "source": [
        "print(X)\n",
        "print(y)\n",
        "print(params)"
      ],
      "execution_count": 17,
      "outputs": [
        {
          "output_type": "stream",
          "text": [
            "[[1. 1.]\n",
            " [1. 2.]\n",
            " [1. 4.]]\n",
            "[2. 3. 6.]\n",
            "[0. 0.]\n"
          ],
          "name": "stdout"
        }
      ]
    },
    {
      "cell_type": "code",
      "metadata": {
        "id": "Iz0dNDsAs-PE",
        "colab_type": "code",
        "colab": {}
      },
      "source": [
        "def h_theta(X, params):\n",
        "    return np.dot(X, params)"
      ],
      "execution_count": 0,
      "outputs": []
    },
    {
      "cell_type": "code",
      "metadata": {
        "id": "SgIIVTb2s5XJ",
        "colab_type": "code",
        "colab": {}
      },
      "source": [
        "def j_theta(X, y, params):\n",
        "    predict = h_theta(X, params)\n",
        "    sqrerr = (predict - y)**2\n",
        "    \n",
        "    return (1/2 * len(y)) * sum(sqrerr)"
      ],
      "execution_count": 0,
      "outputs": []
    },
    {
      "cell_type": "code",
      "metadata": {
        "id": "p1x5E9Ils02f",
        "colab_type": "code",
        "colab": {}
      },
      "source": [
        "def linear_regression(X, y, params):\n",
        "    alpha = 0.1\n",
        "    m = len(y)\n",
        "    iteration = 100\n",
        "    \n",
        "    plt.subplot(121)\n",
        " \n",
        "    ax2 = plt.subplot(1,2,2)\n",
        "    ax2.plot(1/2, 19/14, \"rx\")\n",
        "\n",
        "    # GD\n",
        "    for i in range(iteration):\n",
        "        predict = h_theta(X, params)\n",
        "        cost1 = np.sum(predict - y)\n",
        "        cost2 = np.sum((predict - y) * X[:,1])\n",
        "        params = params - alpha * (1/m) * np.array([cost1, cost2])\n",
        "        if i % (iteration / 10) == 0:\n",
        "            #plt.plot(X[1, :], h_theta(X, params), label=str(i+1))\n",
        "            continue\n",
        "        ax2.plot(params[0], params[1], \"s\")\n",
        "        \n",
        "\n",
        "    ax1 = plt.subplot(1,2,1)\n",
        "    ax1.plot(X[:, 1], y, \"s\")\n",
        "    plt.plot(X[:, 1], h_theta(X, params))\n",
        "    ax1.set_xlabel(\"x\")\n",
        "    ax1.set_ylabel(\"y\")\n",
        "    ax1.grid()\n",
        "\n",
        "    ax2.grid()\n",
        "    ax2.set_xlabel(\"theta0\")\n",
        "    ax2.set_ylabel(\"theta1\")\n",
        "    #ax2.legend()\n",
        "    \n",
        "    plt.subplots_adjust(wspace=0.4, hspace=0.6)\n",
        "    plt.show()\n"
      ],
      "execution_count": 0,
      "outputs": []
    },
    {
      "cell_type": "code",
      "metadata": {
        "id": "CCednRqutBWH",
        "colab_type": "code",
        "colab": {
          "base_uri": "https://localhost:8080/",
          "height": 354
        },
        "outputId": "481e384c-3628-4770-ee8c-888d8b214c53"
      },
      "source": [
        "linear_regression(X, y, params)"
      ],
      "execution_count": 15,
      "outputs": [
        {
          "output_type": "stream",
          "text": [
            "/usr/local/lib/python3.6/dist-packages/matplotlib/figure.py:98: MatplotlibDeprecationWarning: \n",
            "Adding an axes using the same arguments as a previous axes currently reuses the earlier instance.  In a future version, a new instance will always be created and returned.  Meanwhile, this warning can be suppressed, and the future behavior ensured, by passing a unique label to each axes instance.\n",
            "  \"Adding an axes using the same arguments as a previous axes \"\n"
          ],
          "name": "stderr"
        },
        {
          "output_type": "display_data",
          "data": {
            "image/png": "[encoded data removed]",
            "text/plain": [
              "<Figure size 432x288 with 2 Axes>"
            ]
          },
          "metadata": {
            "tags": []
          }
        }
      ]
    },
    {
      "cell_type": "code",
      "metadata": {
        "id": "xwwBzPymtFjV",
        "colab_type": "code",
        "colab": {}
      },
      "source": [
        ""
      ],
      "execution_count": 0,
      "outputs": []
    },
    {
      "cell_type": "code",
      "metadata": {
        "id": "1Ite96XBtsX6",
        "colab_type": "code",
        "colab": {}
      },
      "source": [
        ""
      ],
      "execution_count": 0,
      "outputs": []
    }
  ]
}